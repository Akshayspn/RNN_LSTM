{
  "nbformat": 4,
  "nbformat_minor": 0,
  "metadata": {
    "colab": {
      "name": "Copy of RNN+LSTM_notebook_sentiment_classification.ipynb",
      "provenance": [],
      "authorship_tag": "ABX9TyNn9lmHKSVn/vlGPAWkgdQc",
      "include_colab_link": true
    },
    "kernelspec": {
      "name": "python3",
      "display_name": "Python 3"
    },
    "language_info": {
      "name": "python"
    }
  },
  "cells": [
    {
      "cell_type": "markdown",
      "metadata": {
        "id": "view-in-github",
        "colab_type": "text"
      },
      "source": [
        "<a href=\"https://colab.research.google.com/github/Akshayspn/RNN_LSTM/blob/main/RNN%2BLSTM_notebook_sentiment_classification.ipynb\" target=\"_parent\"><img src=\"https://colab.research.google.com/assets/colab-badge.svg\" alt=\"Open In Colab\"/></a>"
      ]
    },
    {
      "cell_type": "code",
      "execution_count": null,
      "metadata": {
        "id": "OJdrnFS2N6g9"
      },
      "outputs": [],
      "source": [
        "from tensorflow.keras.datasets import imdb"
      ]
    },
    {
      "cell_type": "code",
      "source": [
        "vocab_size = 8000"
      ],
      "metadata": {
        "id": "unjx7_7UJ2c4"
      },
      "execution_count": null,
      "outputs": []
    },
    {
      "cell_type": "code",
      "source": [
        "(X_train, y_train), (X_test, y_test) = imdb.load_data(num_words=vocab_size)"
      ],
      "metadata": {
        "colab": {
          "base_uri": "https://localhost:8080/"
        },
        "id": "mDd4BoTDJ5VE",
        "outputId": "e89fea1e-5df0-47b5-a551-81b6f85bca73"
      },
      "execution_count": null,
      "outputs": [
        {
          "output_type": "stream",
          "name": "stdout",
          "text": [
            "Downloading data from https://storage.googleapis.com/tensorflow/tf-keras-datasets/imdb.npz\n",
            "17465344/17464789 [==============================] - 0s 0us/step\n",
            "17473536/17464789 [==============================] - 0s 0us/step\n"
          ]
        }
      ]
    },
    {
      "cell_type": "code",
      "source": [
        "print(type(X_train))\n",
        "print(type(X_train[5]))\n",
        "print(X_train[5])"
      ],
      "metadata": {
        "colab": {
          "base_uri": "https://localhost:8080/"
        },
        "id": "2QkJtTHqJ81A",
        "outputId": "c39c33ee-af7e-463e-c791-8e4aafb54fd6"
      },
      "execution_count": null,
      "outputs": [
        {
          "output_type": "stream",
          "name": "stdout",
          "text": [
            "<class 'numpy.ndarray'>\n",
            "<class 'list'>\n",
            "[1, 778, 128, 74, 12, 630, 163, 15, 4, 1766, 7982, 1051, 2, 32, 85, 156, 45, 40, 148, 139, 121, 664, 665, 10, 10, 1361, 173, 4, 749, 2, 16, 3804, 8, 4, 226, 65, 12, 43, 127, 24, 2, 10, 10]\n"
          ]
        }
      ]
    },
    {
      "cell_type": "code",
      "source": [
        "maxlen = 200"
      ],
      "metadata": {
        "id": "2VDTw84yKALF"
      },
      "execution_count": null,
      "outputs": []
    },
    {
      "cell_type": "code",
      "source": [
        "# Staging and preprocessing the data\n"
      ],
      "metadata": {
        "id": "OiPVCHOVKCpV"
      },
      "execution_count": null,
      "outputs": []
    },
    {
      "cell_type": "markdown",
      "source": [
        "Staging and preprocessing the data"
      ],
      "metadata": {
        "id": "QyyNPfdtKLX0"
      }
    },
    {
      "cell_type": "code",
      "source": [
        "from tensorflow.keras import preprocessing"
      ],
      "metadata": {
        "id": "hGfBp-VLKJbz"
      },
      "execution_count": null,
      "outputs": []
    },
    {
      "cell_type": "code",
      "source": [
        "X_train = preprocessing.sequence.pad_sequences(X_train, maxlen=maxlen)\n",
        "X_test = preprocessing.sequence.pad_sequences(X_test, maxlen=maxlen)"
      ],
      "metadata": {
        "id": "h-38lD0KKKVF"
      },
      "execution_count": null,
      "outputs": []
    },
    {
      "cell_type": "code",
      "source": [
        "print(X_train[5])"
      ],
      "metadata": {
        "colab": {
          "base_uri": "https://localhost:8080/"
        },
        "id": "TJpR2rx0KToM",
        "outputId": "30ddfa32-65fc-4673-8730-9401a51c98b6"
      },
      "execution_count": null,
      "outputs": [
        {
          "output_type": "stream",
          "name": "stdout",
          "text": [
            "[   0    0    0    0    0    0    0    0    0    0    0    0    0    0\n",
            "    0    0    0    0    0    0    0    0    0    0    0    0    0    0\n",
            "    0    0    0    0    0    0    0    0    0    0    0    0    0    0\n",
            "    0    0    0    0    0    0    0    0    0    0    0    0    0    0\n",
            "    0    0    0    0    0    0    0    0    0    0    0    0    0    0\n",
            "    0    0    0    0    0    0    0    0    0    0    0    0    0    0\n",
            "    0    0    0    0    0    0    0    0    0    0    0    0    0    0\n",
            "    0    0    0    0    0    0    0    0    0    0    0    0    0    0\n",
            "    0    0    0    0    0    0    0    0    0    0    0    0    0    0\n",
            "    0    0    0    0    0    0    0    0    0    0    0    0    0    0\n",
            "    0    0    0    0    0    0    0    0    0    0    0    0    0    0\n",
            "    0    0    0    1  778  128   74   12  630  163   15    4 1766 7982\n",
            " 1051    2   32   85  156   45   40  148  139  121  664  665   10   10\n",
            " 1361  173    4  749    2   16 3804    8    4  226   65   12   43  127\n",
            "   24    2   10   10]\n"
          ]
        }
      ]
    },
    {
      "cell_type": "code",
      "source": [
        ""
      ],
      "metadata": {
        "id": "Y3UKIkFBKXmW"
      },
      "execution_count": null,
      "outputs": []
    },
    {
      "cell_type": "markdown",
      "source": [
        "Build RNN Model for sentiment classification"
      ],
      "metadata": {
        "id": "D0MT4BfKKdX0"
      }
    },
    {
      "cell_type": "code",
      "source": [
        "import numpy as np\n",
        "import tensorflow as tf\n",
        "\n",
        "np.random.seed(42)\n",
        "tf.random.set_seed(42)"
      ],
      "metadata": {
        "id": "udirk_bAKlao"
      },
      "execution_count": null,
      "outputs": []
    },
    {
      "cell_type": "code",
      "source": [
        "from tensorflow.keras.models import Sequential\n",
        "from tensorflow.keras.layers import SimpleRNN, Flatten, Dense, Embedding, SpatialDropout1D, Dropout"
      ],
      "metadata": {
        "id": "1KlGtc3CKmJD"
      },
      "execution_count": null,
      "outputs": []
    },
    {
      "cell_type": "code",
      "source": [
        "model_rnn = Sequential()"
      ],
      "metadata": {
        "id": "WHk6ZqomKop4"
      },
      "execution_count": null,
      "outputs": []
    },
    {
      "cell_type": "code",
      "source": [
        "model_rnn.add(Embedding(vocab_size, output_dim=32))\n",
        "model_rnn.add(SpatialDropout1D(0.4))"
      ],
      "metadata": {
        "id": "UW87c8CWKrbl"
      },
      "execution_count": null,
      "outputs": []
    },
    {
      "cell_type": "code",
      "source": [
        "# add 32 simple rnn neurons\n",
        "model_rnn.add(SimpleRNN(32))"
      ],
      "metadata": {
        "id": "6PC1oH9gKt1y"
      },
      "execution_count": null,
      "outputs": []
    },
    {
      "cell_type": "code",
      "source": [
        "model_rnn.add(Dropout(0.4))"
      ],
      "metadata": {
        "id": "eWQzDSJXK1Hb"
      },
      "execution_count": null,
      "outputs": []
    },
    {
      "cell_type": "code",
      "source": [
        "model_rnn.add(Dense(1, activation='sigmoid'))"
      ],
      "metadata": {
        "id": "MrI8RvorK7Gt"
      },
      "execution_count": null,
      "outputs": []
    },
    {
      "cell_type": "code",
      "source": [
        "model_rnn.compile(loss='binary_crossentropy',\n",
        "              optimizer='rmsprop',\n",
        "              metrics=['accuracy'])"
      ],
      "metadata": {
        "id": "Ev3B5FHwK_Nd"
      },
      "execution_count": null,
      "outputs": []
    },
    {
      "cell_type": "code",
      "source": [
        "model_rnn.summary()"
      ],
      "metadata": {
        "colab": {
          "base_uri": "https://localhost:8080/"
        },
        "id": "aNfaWQeCLB9Y",
        "outputId": "3023e632-06c3-4d1d-b8ba-ac34ac058aa2"
      },
      "execution_count": null,
      "outputs": [
        {
          "output_type": "stream",
          "name": "stdout",
          "text": [
            "Model: \"sequential\"\n",
            "_________________________________________________________________\n",
            " Layer (type)                Output Shape              Param #   \n",
            "=================================================================\n",
            " embedding (Embedding)       (None, None, 32)          256000    \n",
            "                                                                 \n",
            " spatial_dropout1d (SpatialD  (None, None, 32)         0         \n",
            " ropout1D)                                                       \n",
            "                                                                 \n",
            " simple_rnn (SimpleRNN)      (None, 32)                2080      \n",
            "                                                                 \n",
            " dropout (Dropout)           (None, 32)                0         \n",
            "                                                                 \n",
            " dropout_1 (Dropout)         (None, 32)                0         \n",
            "                                                                 \n",
            " dense (Dense)               (None, 1)                 33        \n",
            "                                                                 \n",
            "=================================================================\n",
            "Total params: 258,113\n",
            "Trainable params: 258,113\n",
            "Non-trainable params: 0\n",
            "_________________________________________________________________\n"
          ]
        }
      ]
    },
    {
      "cell_type": "code",
      "source": [
        "history_rnn = model_rnn.fit(X_train, y_train, batch_size=128, validation_split=0.2, epochs = 10)"
      ],
      "metadata": {
        "colab": {
          "base_uri": "https://localhost:8080/"
        },
        "id": "Rlq6uM0lLEyv",
        "outputId": "ef4f9e65-cb8a-4c50-930a-ba12e781aafb"
      },
      "execution_count": null,
      "outputs": [
        {
          "output_type": "stream",
          "name": "stdout",
          "text": [
            "Epoch 1/10\n",
            "157/157 [==============================] - 13s 73ms/step - loss: 0.6218 - accuracy: 0.6478 - val_loss: 0.5167 - val_accuracy: 0.7572\n",
            "Epoch 2/10\n",
            "157/157 [==============================] - 11s 71ms/step - loss: 0.4517 - accuracy: 0.8120 - val_loss: 0.4495 - val_accuracy: 0.8062\n",
            "Epoch 3/10\n",
            "157/157 [==============================] - 11s 73ms/step - loss: 0.3701 - accuracy: 0.8547 - val_loss: 0.3545 - val_accuracy: 0.8540\n",
            "Epoch 4/10\n",
            "157/157 [==============================] - 11s 73ms/step - loss: 0.3246 - accuracy: 0.8731 - val_loss: 0.3342 - val_accuracy: 0.8580\n",
            "Epoch 5/10\n",
            "157/157 [==============================] - 11s 73ms/step - loss: 0.2980 - accuracy: 0.8867 - val_loss: 0.3447 - val_accuracy: 0.8662\n",
            "Epoch 6/10\n",
            "157/157 [==============================] - 11s 72ms/step - loss: 0.2875 - accuracy: 0.8906 - val_loss: 0.3286 - val_accuracy: 0.8684\n",
            "Epoch 7/10\n",
            "157/157 [==============================] - 11s 71ms/step - loss: 0.2780 - accuracy: 0.9014 - val_loss: 0.4417 - val_accuracy: 0.8454\n",
            "Epoch 8/10\n",
            "157/157 [==============================] - 11s 72ms/step - loss: 0.2549 - accuracy: 0.9068 - val_loss: 0.3568 - val_accuracy: 0.8494\n",
            "Epoch 9/10\n",
            "157/157 [==============================] - 11s 72ms/step - loss: 0.2406 - accuracy: 0.9131 - val_loss: 0.3345 - val_accuracy: 0.8656\n",
            "Epoch 10/10\n",
            "157/157 [==============================] - 11s 72ms/step - loss: 0.2184 - accuracy: 0.9196 - val_loss: 0.3459 - val_accuracy: 0.8600\n"
          ]
        }
      ]
    },
    {
      "cell_type": "code",
      "source": [
        "# y_test_pred = model_rnn.predict_classes(X_test)\n",
        "y_test_pred=(model_rnn.predict(X_test) > 0.5).astype(\"int32\")"
      ],
      "metadata": {
        "id": "RxcKPqXlLL5O"
      },
      "execution_count": null,
      "outputs": []
    },
    {
      "cell_type": "code",
      "source": [
        "from sklearn.metrics import accuracy_score"
      ],
      "metadata": {
        "id": "M-njsfFtLvTM"
      },
      "execution_count": null,
      "outputs": []
    },
    {
      "cell_type": "code",
      "source": [
        "print(accuracy_score(y_test, y_test_pred))"
      ],
      "metadata": {
        "colab": {
          "base_uri": "https://localhost:8080/"
        },
        "id": "66RhYqhaMMLX",
        "outputId": "2f540a3e-3923-4959-af58-67d0d9fb17cd"
      },
      "execution_count": null,
      "outputs": [
        {
          "output_type": "stream",
          "name": "stdout",
          "text": [
            "0.85548\n"
          ]
        }
      ]
    },
    {
      "cell_type": "code",
      "source": [
        ""
      ],
      "metadata": {
        "id": "bQgG-MnFMOSR"
      },
      "execution_count": null,
      "outputs": []
    },
    {
      "cell_type": "markdown",
      "source": [
        "Make prediction on random text"
      ],
      "metadata": {
        "id": "mMXtlGfAMTPB"
      }
    },
    {
      "cell_type": "code",
      "source": [
        "inp_review = \"An excellent place!\""
      ],
      "metadata": {
        "id": "jNVlAWkJMWn0"
      },
      "execution_count": null,
      "outputs": []
    },
    {
      "cell_type": "code",
      "source": [
        "from tensorflow.keras.preprocessing.text import text_to_word_sequence"
      ],
      "metadata": {
        "id": "lfFlIaEMMaXi"
      },
      "execution_count": null,
      "outputs": []
    },
    {
      "cell_type": "code",
      "source": [
        "text_to_word_sequence(inp_review)"
      ],
      "metadata": {
        "colab": {
          "base_uri": "https://localhost:8080/"
        },
        "id": "iBJnXwG-McsH",
        "outputId": "bf14930d-5a9c-44e0-887b-f399ce7051ba"
      },
      "execution_count": null,
      "outputs": [
        {
          "output_type": "execute_result",
          "data": {
            "text/plain": [
              "['an', 'excellent', 'place']"
            ]
          },
          "metadata": {},
          "execution_count": 54
        }
      ]
    },
    {
      "cell_type": "code",
      "source": [
        "word_map = imdb.get_word_index()"
      ],
      "metadata": {
        "id": "3a_wALkTMfUy"
      },
      "execution_count": null,
      "outputs": []
    },
    {
      "cell_type": "code",
      "source": [
        "vocab_map = dict(sorted(word_map.items(), key=lambda x: x[1])[:vocab_size])"
      ],
      "metadata": {
        "id": "59rTkoDPMiCl"
      },
      "execution_count": null,
      "outputs": []
    },
    {
      "cell_type": "code",
      "source": [
        "def preprocess(review):\n",
        "    inp_tokens = text_to_word_sequence(review)\n",
        "    seq = []\n",
        "    for token in inp_tokens:\n",
        "        seq.append(vocab_map.get(token))\n",
        "    return seq"
      ],
      "metadata": {
        "id": "hY-jXAtUMmOw"
      },
      "execution_count": null,
      "outputs": []
    },
    {
      "cell_type": "code",
      "source": [
        "preprocess(inp_review)"
      ],
      "metadata": {
        "colab": {
          "base_uri": "https://localhost:8080/"
        },
        "id": "LSQ8mo9KMp7X",
        "outputId": "f03313a1-d68b-4a37-dc03-2151959c4d06"
      },
      "execution_count": null,
      "outputs": [
        {
          "output_type": "execute_result",
          "data": {
            "text/plain": [
              "[32, 318, 270]"
            ]
          },
          "metadata": {},
          "execution_count": 58
        }
      ]
    },
    {
      "cell_type": "code",
      "source": [
        "# model_rnn.predict_classes([preprocess(inp_review)])"
      ],
      "metadata": {
        "id": "xv3tONQdMvaJ"
      },
      "execution_count": null,
      "outputs": []
    },
    {
      "cell_type": "code",
      "source": [
        "(model_rnn.predict([preprocess(inp_review)]) > 0.5).astype(\"int32\")"
      ],
      "metadata": {
        "colab": {
          "base_uri": "https://localhost:8080/"
        },
        "id": "t0sBMnbwMy56",
        "outputId": "51c9ef5b-537d-487a-e93b-36d292e31c3c"
      },
      "execution_count": null,
      "outputs": [
        {
          "output_type": "execute_result",
          "data": {
            "text/plain": [
              "array([[1]], dtype=int32)"
            ]
          },
          "metadata": {},
          "execution_count": 60
        }
      ]
    },
    {
      "cell_type": "code",
      "source": [
        "inp_review = \"poor reach, poor house, bad weather.\""
      ],
      "metadata": {
        "id": "Tv0AKqXPM_t_"
      },
      "execution_count": null,
      "outputs": []
    },
    {
      "cell_type": "code",
      "source": [
        "preprocess(inp_review)"
      ],
      "metadata": {
        "colab": {
          "base_uri": "https://localhost:8080/"
        },
        "id": "f6savu_QNKoV",
        "outputId": "5a62eadc-b438-4ae3-c439-a82ee0126385"
      },
      "execution_count": null,
      "outputs": [
        {
          "output_type": "execute_result",
          "data": {
            "text/plain": [
              "[335, 2098, 335, 310, 75, 5822]"
            ]
          },
          "metadata": {},
          "execution_count": 62
        }
      ]
    },
    {
      "cell_type": "code",
      "source": [
        "(model_rnn.predict([preprocess(inp_review)]) > 0.5).astype(\"int32\")"
      ],
      "metadata": {
        "colab": {
          "base_uri": "https://localhost:8080/"
        },
        "id": "xwYgXrOTNWGn",
        "outputId": "36962132-61a4-4c9d-c4f9-f38cb0bf9e0e"
      },
      "execution_count": null,
      "outputs": [
        {
          "output_type": "execute_result",
          "data": {
            "text/plain": [
              "array([[0]], dtype=int32)"
            ]
          },
          "metadata": {},
          "execution_count": 63
        }
      ]
    },
    {
      "cell_type": "code",
      "source": [
        ""
      ],
      "metadata": {
        "id": "6xjnA3B2RxkY"
      },
      "execution_count": null,
      "outputs": []
    },
    {
      "cell_type": "markdown",
      "source": [
        "LSTM processing!!!"
      ],
      "metadata": {
        "id": "1Vv3ZwKTR-kb"
      }
    },
    {
      "cell_type": "code",
      "source": [
        "from tensorflow.keras.layers import LSTM"
      ],
      "metadata": {
        "id": "a3Rk1SKXSCEA"
      },
      "execution_count": null,
      "outputs": []
    },
    {
      "cell_type": "code",
      "source": [
        "model_lstm = Sequential()\n",
        "model_lstm.add(Embedding(vocab_size, output_dim=32))\n",
        "model_lstm.add(SpatialDropout1D(0.4))"
      ],
      "metadata": {
        "id": "aLucXfHDSizM"
      },
      "execution_count": null,
      "outputs": []
    },
    {
      "cell_type": "code",
      "source": [
        "model_lstm.add(LSTM(32))"
      ],
      "metadata": {
        "id": "AxJkGOgwSltW"
      },
      "execution_count": null,
      "outputs": []
    },
    {
      "cell_type": "code",
      "source": [
        "model_lstm.add(Dropout(0.4))\n",
        "model_lstm.add(Dense(1, activation='sigmoid'))\n",
        "\n",
        "model_lstm.compile(loss='binary_crossentropy',\n",
        "              optimizer='rmsprop',\n",
        "              metrics=['accuracy'])"
      ],
      "metadata": {
        "id": "Awtf0_quSqLW"
      },
      "execution_count": null,
      "outputs": []
    },
    {
      "cell_type": "code",
      "source": [
        "model_lstm.summary()"
      ],
      "metadata": {
        "colab": {
          "base_uri": "https://localhost:8080/"
        },
        "id": "hi4xNln7S8in",
        "outputId": "b937981d-6475-4ea2-fcae-852dfcd12bd7"
      },
      "execution_count": null,
      "outputs": [
        {
          "output_type": "stream",
          "name": "stdout",
          "text": [
            "Model: \"sequential_2\"\n",
            "_________________________________________________________________\n",
            " Layer (type)                Output Shape              Param #   \n",
            "=================================================================\n",
            " embedding_2 (Embedding)     (None, None, 32)          256000    \n",
            "                                                                 \n",
            " spatial_dropout1d_2 (Spatia  (None, None, 32)         0         \n",
            " lDropout1D)                                                     \n",
            "                                                                 \n",
            " lstm_2 (LSTM)               (None, 32)                8320      \n",
            "                                                                 \n",
            " dropout_2 (Dropout)         (None, 32)                0         \n",
            "                                                                 \n",
            " dense_1 (Dense)             (None, 1)                 33        \n",
            "                                                                 \n",
            "=================================================================\n",
            "Total params: 264,353\n",
            "Trainable params: 264,353\n",
            "Non-trainable params: 0\n",
            "_________________________________________________________________\n"
          ]
        }
      ]
    },
    {
      "cell_type": "code",
      "source": [
        "history_lstm = model_lstm.fit(X_train, y_train, batch_size=128, validation_split=0.2, epochs=5)"
      ],
      "metadata": {
        "colab": {
          "base_uri": "https://localhost:8080/"
        },
        "id": "bTJ1xhORS_EU",
        "outputId": "6d05fc39-5e47-4086-dac7-410af6586bef"
      },
      "execution_count": null,
      "outputs": [
        {
          "output_type": "stream",
          "name": "stdout",
          "text": [
            "Epoch 1/5\n",
            "157/157 [==============================] - 27s 157ms/step - loss: 0.5414 - accuracy: 0.7218 - val_loss: 0.3922 - val_accuracy: 0.8364\n",
            "Epoch 2/5\n",
            "157/157 [==============================] - 24s 154ms/step - loss: 0.3327 - accuracy: 0.8708 - val_loss: 0.3546 - val_accuracy: 0.8638\n",
            "Epoch 3/5\n",
            "157/157 [==============================] - 24s 156ms/step - loss: 0.2704 - accuracy: 0.8952 - val_loss: 0.2899 - val_accuracy: 0.8814\n",
            "Epoch 4/5\n",
            "157/157 [==============================] - 24s 155ms/step - loss: 0.2388 - accuracy: 0.9107 - val_loss: 0.2997 - val_accuracy: 0.8832\n",
            "Epoch 5/5\n",
            "157/157 [==============================] - 24s 154ms/step - loss: 0.2194 - accuracy: 0.9180 - val_loss: 0.2889 - val_accuracy: 0.8866\n"
          ]
        }
      ]
    },
    {
      "cell_type": "code",
      "source": [
        "y_test_pred = (model_lstm.predict(X_test) > 0.5).astype(\"int32\")"
      ],
      "metadata": {
        "id": "xJBJjRy9TJdf"
      },
      "execution_count": null,
      "outputs": []
    },
    {
      "cell_type": "code",
      "source": [
        "# y_test\n",
        "y_test_pred"
      ],
      "metadata": {
        "colab": {
          "base_uri": "https://localhost:8080/"
        },
        "id": "nMqFwHriTfoB",
        "outputId": "af8fc459-ea68-4b13-a687-ba4dc72088e4"
      },
      "execution_count": null,
      "outputs": [
        {
          "output_type": "execute_result",
          "data": {
            "text/plain": [
              "array([[0],\n",
              "       [1],\n",
              "       [1],\n",
              "       ...,\n",
              "       [0],\n",
              "       [0],\n",
              "       [1]], dtype=int32)"
            ]
          },
          "metadata": {},
          "execution_count": 81
        }
      ]
    },
    {
      "cell_type": "code",
      "source": [
        "print(accuracy_score(y_test, y_test_pred))\n"
      ],
      "metadata": {
        "colab": {
          "base_uri": "https://localhost:8080/"
        },
        "id": "CrG_NdXvTw93",
        "outputId": "09be986f-6d4d-45d5-f8e7-f0131165851c"
      },
      "execution_count": null,
      "outputs": [
        {
          "output_type": "stream",
          "name": "stdout",
          "text": [
            "0.87612\n"
          ]
        }
      ]
    },
    {
      "cell_type": "code",
      "source": [
        ""
      ],
      "metadata": {
        "id": "QYx6oalCU6Nw"
      },
      "execution_count": null,
      "outputs": []
    },
    {
      "cell_type": "markdown",
      "source": [
        "GRU-Based Sentiment Classification Model"
      ],
      "metadata": {
        "id": "Ea0ee0boV1js"
      }
    },
    {
      "cell_type": "code",
      "source": [
        "from tensorflow.keras.layers import GRU"
      ],
      "metadata": {
        "id": "owaYw0CnV2Mi"
      },
      "execution_count": null,
      "outputs": []
    },
    {
      "cell_type": "code",
      "source": [
        "model_gru = Sequential()\n",
        "model_gru.add(Embedding(vocab_size, output_dim=32))\n",
        "model_gru.add(SpatialDropout1D(0.4))"
      ],
      "metadata": {
        "id": "UHFwB6faV4uR"
      },
      "execution_count": null,
      "outputs": []
    },
    {
      "cell_type": "code",
      "source": [
        "model_gru.add(GRU(32, reset_after=False))"
      ],
      "metadata": {
        "id": "fGxRlXjBV7fR"
      },
      "execution_count": null,
      "outputs": []
    },
    {
      "cell_type": "code",
      "source": [
        "model_gru.add(Dropout(0.4))\n",
        "model_gru.add(Dense(1, activation='sigmoid'))\n",
        "\n",
        "model_gru.compile(loss='binary_crossentropy',\n",
        "              optimizer='rmsprop',\n",
        "              metrics=['accuracy'])"
      ],
      "metadata": {
        "id": "XPemLCJRV96F"
      },
      "execution_count": null,
      "outputs": []
    },
    {
      "cell_type": "code",
      "source": [
        "model_gru.summary()"
      ],
      "metadata": {
        "colab": {
          "base_uri": "https://localhost:8080/"
        },
        "id": "alBgZHm-WARJ",
        "outputId": "d674caaf-d65f-47f9-87fe-35a863c10a1f"
      },
      "execution_count": null,
      "outputs": [
        {
          "output_type": "stream",
          "name": "stdout",
          "text": [
            "Model: \"sequential_3\"\n",
            "_________________________________________________________________\n",
            " Layer (type)                Output Shape              Param #   \n",
            "=================================================================\n",
            " embedding_3 (Embedding)     (None, None, 32)          256000    \n",
            "                                                                 \n",
            " spatial_dropout1d_3 (Spatia  (None, None, 32)         0         \n",
            " lDropout1D)                                                     \n",
            "                                                                 \n",
            " gru (GRU)                   (None, 32)                6240      \n",
            "                                                                 \n",
            " dropout_3 (Dropout)         (None, 32)                0         \n",
            "                                                                 \n",
            " dense_2 (Dense)             (None, 1)                 33        \n",
            "                                                                 \n",
            "=================================================================\n",
            "Total params: 262,273\n",
            "Trainable params: 262,273\n",
            "Non-trainable params: 0\n",
            "_________________________________________________________________\n"
          ]
        }
      ]
    },
    {
      "cell_type": "code",
      "source": [
        "history_gru = model_gru.fit(X_train, y_train, batch_size=128, validation_split=0.2, epochs = 4)"
      ],
      "metadata": {
        "colab": {
          "base_uri": "https://localhost:8080/"
        },
        "id": "_J5rECg9WDZf",
        "outputId": "e70917d7-065f-4c46-8d4e-6da33370274e"
      },
      "execution_count": null,
      "outputs": [
        {
          "output_type": "stream",
          "name": "stdout",
          "text": [
            "Epoch 1/4\n",
            "157/157 [==============================] - 27s 160ms/step - loss: 0.5593 - accuracy: 0.6995 - val_loss: 0.3639 - val_accuracy: 0.8426\n",
            "Epoch 2/4\n",
            "157/157 [==============================] - 25s 160ms/step - loss: 0.3355 - accuracy: 0.8593 - val_loss: 0.3233 - val_accuracy: 0.8642\n",
            "Epoch 3/4\n",
            "157/157 [==============================] - 25s 159ms/step - loss: 0.2809 - accuracy: 0.8886 - val_loss: 0.3030 - val_accuracy: 0.8728\n",
            "Epoch 4/4\n",
            "157/157 [==============================] - 25s 158ms/step - loss: 0.2518 - accuracy: 0.9023 - val_loss: 0.3921 - val_accuracy: 0.8448\n"
          ]
        }
      ]
    },
    {
      "cell_type": "code",
      "source": [
        "y_test_pred = (model_gru.predict(X_test) > 0.5).astype(\"int32\")"
      ],
      "metadata": {
        "id": "Bc9HT9NAWKH5"
      },
      "execution_count": null,
      "outputs": []
    },
    {
      "cell_type": "code",
      "source": [
        "accuracy_score(y_test, y_test_pred)"
      ],
      "metadata": {
        "colab": {
          "base_uri": "https://localhost:8080/"
        },
        "id": "WFNq6xk-WNK6",
        "outputId": "5f8c7ce6-c518-4cc8-ca99-b6625f9a8d0c"
      },
      "execution_count": null,
      "outputs": [
        {
          "output_type": "execute_result",
          "data": {
            "text/plain": [
              "0.8336"
            ]
          },
          "metadata": {},
          "execution_count": 92
        }
      ]
    },
    {
      "cell_type": "code",
      "source": [
        ""
      ],
      "metadata": {
        "id": "WjucaxT0XJIN"
      },
      "execution_count": null,
      "outputs": []
    },
    {
      "cell_type": "markdown",
      "source": [
        "Bi-directional LSTM-Based Sentiment Classification Model"
      ],
      "metadata": {
        "id": "rncl83HWXR3f"
      }
    },
    {
      "cell_type": "code",
      "source": [
        "from tensorflow.keras.layers import Bidirectional"
      ],
      "metadata": {
        "id": "I5MoLFHPXSgK"
      },
      "execution_count": null,
      "outputs": []
    },
    {
      "cell_type": "code",
      "source": [
        "model_bilstm = Sequential()\n",
        "model_bilstm.add(Embedding(vocab_size, output_dim=32))\n",
        "model_bilstm.add(SpatialDropout1D(0.4))"
      ],
      "metadata": {
        "id": "aNgNLghIXWhL"
      },
      "execution_count": null,
      "outputs": []
    },
    {
      "cell_type": "code",
      "source": [
        "model_bilstm.add(Bidirectional(LSTM(32)))"
      ],
      "metadata": {
        "id": "FXynuorgXY4c"
      },
      "execution_count": null,
      "outputs": []
    },
    {
      "cell_type": "code",
      "source": [
        "model_bilstm.add(Dropout(0.4))\n",
        "model_bilstm.add(Dense(1, activation='sigmoid'))\n",
        "\n",
        "model_bilstm.compile(loss='binary_crossentropy',\n",
        "              optimizer='rmsprop',\n",
        "              metrics=['accuracy'])"
      ],
      "metadata": {
        "id": "RKMUpBI-XbEg"
      },
      "execution_count": null,
      "outputs": []
    },
    {
      "cell_type": "code",
      "source": [
        "model_bilstm.summary()"
      ],
      "metadata": {
        "colab": {
          "base_uri": "https://localhost:8080/"
        },
        "id": "ptWD3YB_XdMi",
        "outputId": "9f4e1dcb-bb01-4f42-a41f-ef0789f76466"
      },
      "execution_count": null,
      "outputs": [
        {
          "output_type": "stream",
          "name": "stdout",
          "text": [
            "Model: \"sequential_4\"\n",
            "_________________________________________________________________\n",
            " Layer (type)                Output Shape              Param #   \n",
            "=================================================================\n",
            " embedding_4 (Embedding)     (None, None, 32)          256000    \n",
            "                                                                 \n",
            " spatial_dropout1d_4 (Spatia  (None, None, 32)         0         \n",
            " lDropout1D)                                                     \n",
            "                                                                 \n",
            " bidirectional (Bidirectiona  (None, 64)               16640     \n",
            " l)                                                              \n",
            "                                                                 \n",
            " dropout_4 (Dropout)         (None, 64)                0         \n",
            "                                                                 \n",
            " dense_3 (Dense)             (None, 1)                 65        \n",
            "                                                                 \n",
            "=================================================================\n",
            "Total params: 272,705\n",
            "Trainable params: 272,705\n",
            "Non-trainable params: 0\n",
            "_________________________________________________________________\n"
          ]
        }
      ]
    },
    {
      "cell_type": "code",
      "source": [
        "history_bilstm = model_bilstm.fit(X_train, y_train, batch_size=128, validation_split=0.2, epochs = 4)"
      ],
      "metadata": {
        "colab": {
          "base_uri": "https://localhost:8080/"
        },
        "id": "9fRPKylYXfvB",
        "outputId": "84a71ad5-6cd2-41f8-d3b7-cd1c5427801d"
      },
      "execution_count": null,
      "outputs": [
        {
          "output_type": "stream",
          "name": "stdout",
          "text": [
            "Epoch 1/4\n",
            "157/157 [==============================] - 46s 270ms/step - loss: 0.5916 - accuracy: 0.6899 - val_loss: 0.4100 - val_accuracy: 0.8356\n",
            "Epoch 2/4\n",
            "157/157 [==============================] - 42s 265ms/step - loss: 0.3632 - accuracy: 0.8516 - val_loss: 0.4077 - val_accuracy: 0.8454\n",
            "Epoch 3/4\n",
            "157/157 [==============================] - 42s 265ms/step - loss: 0.2858 - accuracy: 0.8885 - val_loss: 0.3031 - val_accuracy: 0.8706\n",
            "Epoch 4/4\n",
            "157/157 [==============================] - 42s 266ms/step - loss: 0.2521 - accuracy: 0.9047 - val_loss: 0.3114 - val_accuracy: 0.8736\n"
          ]
        }
      ]
    },
    {
      "cell_type": "code",
      "source": [
        "y_test_pred = (model_bilstm.predict(X_test)>0.5).astype(\"int32\")"
      ],
      "metadata": {
        "id": "7HZ-x46YXkCO"
      },
      "execution_count": null,
      "outputs": []
    },
    {
      "cell_type": "code",
      "source": [
        "accuracy_score(y_test, y_test_pred)"
      ],
      "metadata": {
        "colab": {
          "base_uri": "https://localhost:8080/"
        },
        "id": "M1PeZtEsXmVZ",
        "outputId": "75dc455a-042c-46a9-a755-7fb24d6946b7"
      },
      "execution_count": null,
      "outputs": [
        {
          "output_type": "execute_result",
          "data": {
            "text/plain": [
              "0.86892"
            ]
          },
          "metadata": {},
          "execution_count": 101
        }
      ]
    },
    {
      "cell_type": "code",
      "source": [
        ""
      ],
      "metadata": {
        "id": "h7ARZZrRYfe2"
      },
      "execution_count": null,
      "outputs": []
    },
    {
      "cell_type": "markdown",
      "source": [
        "Stacked LSTM-based Sentiment Classification Model"
      ],
      "metadata": {
        "id": "sJ-8JKhCYqG9"
      }
    },
    {
      "cell_type": "code",
      "source": [
        "model_stack = Sequential()\n",
        "model_stack.add(Embedding(vocab_size, output_dim=32))\n",
        "model_stack.add(SpatialDropout1D(0.4))"
      ],
      "metadata": {
        "id": "M2vFC5EHYqzj"
      },
      "execution_count": null,
      "outputs": []
    },
    {
      "cell_type": "code",
      "source": [
        "#LSTM Layer 1 - return_sequences is True\n",
        "model_stack.add(LSTM(32, return_sequences=True))"
      ],
      "metadata": {
        "id": "GErdtiDxYtFz"
      },
      "execution_count": null,
      "outputs": []
    },
    {
      "cell_type": "code",
      "source": [
        "#LSTM Layer 2 - return_sequences is False\n",
        "model_stack.add(LSTM(32, return_sequences=False))"
      ],
      "metadata": {
        "id": "W4lSkQw2YwRR"
      },
      "execution_count": null,
      "outputs": []
    },
    {
      "cell_type": "code",
      "source": [
        "model_stack.add(Dropout(0.5))\n",
        "model_stack.add(Dense(1, activation='sigmoid'))\n",
        "\n",
        "model_stack.compile(loss='binary_crossentropy',\n",
        "              optimizer='rmsprop',\n",
        "              metrics=['accuracy'])\n",
        "\n",
        "model_stack.summary()"
      ],
      "metadata": {
        "colab": {
          "base_uri": "https://localhost:8080/"
        },
        "id": "oApSkCeGYzRl",
        "outputId": "e135350b-3a38-47d0-949f-fdfe65717a5a"
      },
      "execution_count": null,
      "outputs": [
        {
          "output_type": "stream",
          "name": "stdout",
          "text": [
            "Model: \"sequential_5\"\n",
            "_________________________________________________________________\n",
            " Layer (type)                Output Shape              Param #   \n",
            "=================================================================\n",
            " embedding_5 (Embedding)     (None, None, 32)          256000    \n",
            "                                                                 \n",
            " spatial_dropout1d_5 (Spatia  (None, None, 32)         0         \n",
            " lDropout1D)                                                     \n",
            "                                                                 \n",
            " lstm_4 (LSTM)               (None, None, 32)          8320      \n",
            "                                                                 \n",
            " lstm_5 (LSTM)               (None, 32)                8320      \n",
            "                                                                 \n",
            " dropout_5 (Dropout)         (None, 32)                0         \n",
            "                                                                 \n",
            " dense_4 (Dense)             (None, 1)                 33        \n",
            "                                                                 \n",
            "=================================================================\n",
            "Total params: 272,673\n",
            "Trainable params: 272,673\n",
            "Non-trainable params: 0\n",
            "_________________________________________________________________\n"
          ]
        }
      ]
    },
    {
      "cell_type": "code",
      "source": [
        "history_stack = model_stack.fit(X_train, y_train, batch_size=128, validation_split=0.2, epochs = 4)"
      ],
      "metadata": {
        "colab": {
          "base_uri": "https://localhost:8080/"
        },
        "id": "j7vZ_IrSY1o7",
        "outputId": "26403d34-a907-42db-9abb-cb30573b81bb"
      },
      "execution_count": null,
      "outputs": [
        {
          "output_type": "stream",
          "name": "stdout",
          "text": [
            "Epoch 1/4\n",
            "157/157 [==============================] - 50s 296ms/step - loss: 0.5199 - accuracy: 0.7326 - val_loss: 0.3328 - val_accuracy: 0.8666\n",
            "Epoch 2/4\n",
            "157/157 [==============================] - 45s 290ms/step - loss: 0.3318 - accuracy: 0.8695 - val_loss: 0.3265 - val_accuracy: 0.8748\n",
            "Epoch 3/4\n",
            "157/157 [==============================] - 46s 293ms/step - loss: 0.2731 - accuracy: 0.8964 - val_loss: 0.2908 - val_accuracy: 0.8814\n",
            "Epoch 4/4\n",
            "157/157 [==============================] - 46s 291ms/step - loss: 0.2405 - accuracy: 0.9132 - val_loss: 0.3457 - val_accuracy: 0.8690\n"
          ]
        }
      ]
    },
    {
      "cell_type": "code",
      "source": [
        "y_test_pred = (model_stack.predict(X_test)>0.5).astype(\"int32\")"
      ],
      "metadata": {
        "id": "SdoNlwMgY58y"
      },
      "execution_count": null,
      "outputs": []
    },
    {
      "cell_type": "code",
      "source": [
        "accuracy_score(y_test, y_test_pred)"
      ],
      "metadata": {
        "colab": {
          "base_uri": "https://localhost:8080/"
        },
        "id": "m290qApVZCRE",
        "outputId": "5c798af2-ae0f-4acc-fb96-7e765f76f7f2"
      },
      "execution_count": null,
      "outputs": [
        {
          "output_type": "execute_result",
          "data": {
            "text/plain": [
              "0.85588"
            ]
          },
          "metadata": {},
          "execution_count": 108
        }
      ]
    },
    {
      "cell_type": "code",
      "source": [
        ""
      ],
      "metadata": {
        "id": "zkVaU9cIZEq9"
      },
      "execution_count": null,
      "outputs": []
    }
  ]
}